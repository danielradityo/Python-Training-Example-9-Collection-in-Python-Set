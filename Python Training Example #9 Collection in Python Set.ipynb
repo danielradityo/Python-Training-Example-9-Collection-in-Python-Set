{
 "cells": [
  {
   "cell_type": "markdown",
   "metadata": {},
   "source": [
    "# Python Training Example #9 Collection in Python Set"
   ]
  },
  {
   "cell_type": "code",
   "execution_count": 14,
   "metadata": {},
   "outputs": [
    {
     "name": "stdout",
     "output_type": "stream",
     "text": [
      "{'Vincet', 'Kiky', 'Mini', 'Jambrong', 'Pandot', 'Adel', 'Depil'}\n"
     ]
    }
   ],
   "source": [
    "# Create a Set\n",
    "name_set = {'Vincet', 'Adel', 'Kiky', 'Pandot', 'Depil', 'Mini', 'Jambrong'} # Create list with {}\n",
    "print(name_set)"
   ]
  }
 ],
 "metadata": {
  "kernelspec": {
   "display_name": "Python 3",
   "language": "python",
   "name": "python3"
  },
  "language_info": {
   "codemirror_mode": {
    "name": "ipython",
    "version": 3
   },
   "file_extension": ".py",
   "mimetype": "text/x-python",
   "name": "python",
   "nbconvert_exporter": "python",
   "pygments_lexer": "ipython3",
   "version": "3.8.5"
  }
 },
 "nbformat": 4,
 "nbformat_minor": 4
}
